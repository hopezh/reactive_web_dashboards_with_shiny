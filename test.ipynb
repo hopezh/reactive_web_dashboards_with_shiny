{
 "cells": [
  {
   "cell_type": "code",
   "execution_count": null,
   "metadata": {},
   "outputs": [
    {
     "name": "stdout",
     "output_type": "stream",
     "text": [
      "polars: 1.22.0\n"
     ]
    }
   ],
   "source": [
    "import polars as pl\n",
    "print('polars:', pl.__version__)\n"
   ]
  },
  {
   "cell_type": "code",
   "execution_count": 25,
   "metadata": {},
   "outputs": [
    {
     "name": "stdout",
     "output_type": "stream",
     "text": [
      "shape: (4, 4)\n",
      "┌──────┬──────┬───────────┬─────────────────┐\n",
      "│ A    ┆ B    ┆ C         ┆ D               │\n",
      "│ ---  ┆ ---  ┆ ---       ┆ ---             │\n",
      "│ i64  ┆ str  ┆ list[i64] ┆ list[str]       │\n",
      "╞══════╪══════╪═══════════╪═════════════════╡\n",
      "│ 1    ┆ a    ┆ [1, 2]    ┆ [\"a\", \"b\"]      │\n",
      "│ 2    ┆ b    ┆ [3]       ┆ [\"c\"]           │\n",
      "│ null ┆ c    ┆ [4, 5, 6] ┆ [\"d\", \"e\", \"f\"] │\n",
      "│ 4    ┆ null ┆ null      ┆ [\"g\", \"h\"]      │\n",
      "└──────┴──────┴───────────┴─────────────────┘\n"
     ]
    }
   ],
   "source": [
    "data = {\n",
    "    'A': [1, 2, None, 4],\n",
    "    'B': ['a', 'b','c', None], \n",
    "    'C': [\n",
    "            [1, 2],\n",
    "            [3], \n",
    "            [4, 5, 6], \n",
    "            None\n",
    "        ],\n",
    "    'D': [\n",
    "            ['a', 'b'],\n",
    "            ['c'],\n",
    "            ['d', 'e', 'f'],\n",
    "            ['g', 'h']\n",
    "        ],\n",
    "}\n",
    "\n",
    "df = pl.DataFrame(data)\n",
    "\n",
    "print(df)\n"
   ]
  },
  {
   "cell_type": "code",
   "execution_count": 24,
   "metadata": {},
   "outputs": [
    {
     "name": "stdout",
     "output_type": "stream",
     "text": [
      "type: <class 'int'>\n",
      "max val: 1\n"
     ]
    }
   ],
   "source": [
    "max_val = df.select(pl.min('A')).item()\n",
    "\n",
    "print('type:', type(max_val))\n",
    "print('max val:', max_val)"
   ]
  },
  {
   "cell_type": "code",
   "execution_count": null,
   "metadata": {},
   "outputs": [],
   "source": []
  }
 ],
 "metadata": {
  "kernelspec": {
   "display_name": "ai",
   "language": "python",
   "name": "python3"
  },
  "language_info": {
   "codemirror_mode": {
    "name": "ipython",
    "version": 3
   },
   "file_extension": ".py",
   "mimetype": "text/x-python",
   "name": "python",
   "nbconvert_exporter": "python",
   "pygments_lexer": "ipython3",
   "version": "3.11.11"
  }
 },
 "nbformat": 4,
 "nbformat_minor": 2
}
